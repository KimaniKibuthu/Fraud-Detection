{
  "nbformat": 4,
  "nbformat_minor": 0,
  "metadata": {
    "colab": {
      "name": "Copy of Fraud Detection.ipynb",
      "provenance": [],
      "collapsed_sections": [],
      "toc_visible": true,
      "authorship_tag": "ABX9TyN2WO8HI2VpxGWa4RxokwjK",
      "include_colab_link": true
    },
    "kernelspec": {
      "name": "python3",
      "display_name": "Python 3"
    },
    "language_info": {
      "name": "python"
    }
  },
  "cells": [
    {
      "cell_type": "markdown",
      "metadata": {
        "id": "view-in-github",
        "colab_type": "text"
      },
      "source": [
        "<a href=\"https://colab.research.google.com/github/KimaniKibuthu/Fraud-Detection/blob/main/Copy_of_Fraud_Detection.ipynb\" target=\"_parent\"><img src=\"https://colab.research.google.com/assets/colab-badge.svg\" alt=\"Open In Colab\"/></a>"
      ]
    },
    {
      "cell_type": "markdown",
      "metadata": {
        "id": "EuU9WZfX75j9"
      },
      "source": [
        "# Fraud Detection\n",
        "\n",
        "## Introduction\n",
        "\n",
        "IEEE-CIS works across a variety of AI and machine learning areas, including deep neural networks, fuzzy systems, evolutionary computation, and swarm intelligence. Today they’re partnering with the world’s leading payment service company, Vesta Corporation, seeking the best solutions for fraud prevention industry, and now you are invited to join the challenge.\n",
        "\n",
        "In this competition, you’ll benchmark machine learning models on a challenging large-scale dataset. The data comes from Vesta's real-world e-commerce transactions and contains a wide range of features from device type to product features. You also have the opportunity to create new features to improve your results.\n",
        "\n",
        "If successful, you’ll improve the efficacy of fraudulent transaction alerts for millions of people around the world, helping hundreds of thousands of businesses reduce their fraud loss and increase their revenue. And of course, you will save party people just like you the hassle of false positives.\n",
        "\n",
        "## Methodology\n",
        "\n",
        "The methodology for the problem will be:\n",
        "* Data Understanding\n",
        "* Data Cleaning, Exploration & Feature Engineering\n",
        "* Modelling\n",
        "\n",
        "## Scoring\n",
        "The metric to be used is **ROC_AUC Score**.\n",
        "\n",
        "The goal is to obtain a model with a score of **0.8** "
      ]
    },
    {
      "cell_type": "markdown",
      "metadata": {
        "id": "ZFY34BVCH1OF"
      },
      "source": [
        "# Libraries, Variables & Functions"
      ]
    },
    {
      "cell_type": "markdown",
      "metadata": {
        "id": "waCBy5stH8HQ"
      },
      "source": [
        "## Libraries"
      ]
    },
    {
      "cell_type": "code",
      "metadata": {
        "id": "W9Rz8NNQGqha"
      },
      "source": [
        "# General Libraries\n",
        "import os\n",
        "import numpy as np\n",
        "import pandas as pd\n",
        "import matplotlib.pyplot as plt\n",
        "import seaborn as sns\n",
        "\n",
        "\n",
        "# Modelling\n",
        "from sklearn.model_selection import train_test_split, StratifiedKFold\n",
        "from sklearn.ensemble import RandomForestClassifier\n",
        "from xgboost import XGBClassifier\n",
        "from lightgbm import LGBMClassifier\n",
        "from functools import partial\n",
        "from hyperopt import hp, fmin, tpe, Trials\n",
        "from hyperopt.pyll.base import scope"
      ],
      "execution_count": 39,
      "outputs": []
    },
    {
      "cell_type": "markdown",
      "metadata": {
        "id": "vLWIVIqdIVkf"
      },
      "source": [
        "## Variables & Functions"
      ]
    },
    {
      "cell_type": "code",
      "metadata": {
        "id": "pnW494nWITCd"
      },
      "source": [
        "# Variables\n",
        "RANDOM_STATE = 42\n",
        "VARIANCE = 0.95\n",
        "TRAIN_SIZE = 0.8\n",
        "INITIALS = ['V', 'C']\n",
        "TO_USE = ['V_0', 'V_1', 'V_2', 'V_3', 'V_4', 'V_5', 'V_6', 'V_7',\n",
        "       'V_8', 'V_9', 'V_10', 'C_0', 'C_1','card6','TransactionAmt',\n",
        "          'D3','M4','M3']\n",
        "WEIGHTS = {\n",
        "    0: 0.5186,\n",
        "    1: 13.9242\n",
        "}\n",
        "\n"
      ],
      "execution_count": 34,
      "outputs": []
    },
    {
      "cell_type": "code",
      "metadata": {
        "id": "LmGutm-F-GmV"
      },
      "source": [
        "def null_handler(data):\n",
        "  ''' \n",
        "  Takes in the dataframe and returns a clean dataframe with  no missing values\n",
        "  '''\n",
        "\n",
        "  # To drop ( with missing values greater than 50%)\n",
        "  to_drop = [column for column in data.columns if data[column].isnull().mean() >= 0.7]\n",
        "  new_data = data.drop(to_drop, axis=1)\n",
        "\n",
        "  # Drop the rest of the missing values\n",
        "  columns_with_null = [column for column in new_data.columns if new_data[column].isnull().mean() != 0]\n",
        "  #final_data = new_data.dropna(subset=columns_with_null).reset_index(drop=True)\n",
        "  for column in columns_with_null:\n",
        "    new_data[column] = new_data[column].fillna(-999)\n",
        "  final_data = new_data.copy()\n",
        "  return final_data"
      ],
      "execution_count": 3,
      "outputs": []
    },
    {
      "cell_type": "code",
      "metadata": {
        "id": "ZQUyJLHKAZhR"
      },
      "source": [
        "def dimension_reducer(data, initial, variance):\n",
        "  '''\n",
        "  Reduces the dimension of a column\n",
        "  '''\n",
        "  # Instantiate Objects\n",
        "  from sklearn.decomposition import PCA\n",
        "  from sklearn.preprocessing import StandardScaler\n",
        "\n",
        "  pca = PCA(variance)\n",
        "  scaler = StandardScaler()\n",
        "\n",
        "  # Columns to reduce\n",
        "  cols = [column for column in data.columns if column.startswith(initial)]\n",
        "\n",
        "  # Subset data\n",
        "  subset = data[cols]\n",
        "\n",
        "  # reduce dimensionality\n",
        "  scaled = scaler.fit_transform(subset)\n",
        "  reduced = pca.fit_transform(scaled)\n",
        "  final_columns = pd.DataFrame(reduced, columns=[f'{initial}_{i}' for i in range(0, reduced.shape[1])])\n",
        "  \n",
        "  # Drop original columns\n",
        "  new_data = data.drop(cols, axis=1)\n",
        "\n",
        "  final_data = pd.concat([new_data, final_columns], axis=1)\n",
        "\n",
        "  return final_data\n",
        "  "
      ],
      "execution_count": 4,
      "outputs": []
    },
    {
      "cell_type": "code",
      "metadata": {
        "id": "vbm83-LdG5Q6"
      },
      "source": [
        "def categorical_handler(data):\n",
        "  '''\n",
        "  Converts categorical data to numerical data\n",
        "  '''\n",
        "  from sklearn.preprocessing import LabelEncoder\n",
        "  le = LabelEncoder()\n",
        "\n",
        "  # Instantiate columns\n",
        "  cols = [column for column in data.columns if data[column].dtype=='O']\n",
        "\n",
        "  # Convert\n",
        "  for column in cols:\n",
        "    data[column] = le.fit_transform(data[column].astype(str))\n",
        "\n",
        "  return data"
      ],
      "execution_count": 28,
      "outputs": []
    },
    {
      "cell_type": "code",
      "metadata": {
        "id": "UZ32J2xrH5-n"
      },
      "source": [
        "def reduce_mem_usage(df):\n",
        "    \"\"\" iterate through all the columns of a dataframe and modify the data type\n",
        "        to reduce memory usage.        \n",
        "    \"\"\"\n",
        "    start_mem = df.memory_usage().sum() / 1024**2\n",
        "    print('Memory usage of dataframe is {:.2f} MB'.format(start_mem))\n",
        "    \n",
        "    for col in df.columns:\n",
        "        col_type = df[col].dtype\n",
        "        \n",
        "        if col_type != object:\n",
        "            c_min = df[col].min()\n",
        "            c_max = df[col].max()\n",
        "            if str(col_type)[:3] == 'int':\n",
        "                if c_min > np.iinfo(np.int8).min and c_max < np.iinfo(np.int8).max:\n",
        "                    df[col] = df[col].astype(np.int8)\n",
        "                elif c_min > np.iinfo(np.int16).min and c_max < np.iinfo(np.int16).max:\n",
        "                    df[col] = df[col].astype(np.int16)\n",
        "                elif c_min > np.iinfo(np.int32).min and c_max < np.iinfo(np.int32).max:\n",
        "                    df[col] = df[col].astype(np.int32)\n",
        "                elif c_min > np.iinfo(np.int64).min and c_max < np.iinfo(np.int64).max:\n",
        "                    df[col] = df[col].astype(np.int64)  \n",
        "            else:\n",
        "                if c_min > np.finfo(np.float16).min and c_max < np.finfo(np.float16).max:\n",
        "                    df[col] = df[col].astype(np.float16)\n",
        "                elif c_min > np.finfo(np.float32).min and c_max < np.finfo(np.float32).max:\n",
        "                    df[col] = df[col].astype(np.float32)\n",
        "                else:\n",
        "                    df[col] = df[col].astype(np.float64)\n",
        "        else:\n",
        "            df[col] = df[col].astype(str)\n",
        "\n",
        "    end_mem = df.memory_usage().sum() / 1024**2\n",
        "    print('Memory usage after optimization is: {:.2f} MB'.format(end_mem))\n",
        "    print('Decreased by {:.1f}%'.format(100 * (start_mem - end_mem) / start_mem))\n",
        "    \n",
        "    return df"
      ],
      "execution_count": 27,
      "outputs": []
    },
    {
      "cell_type": "code",
      "metadata": {
        "id": "-6l-4-1DGpfl"
      },
      "source": [
        "def clean_data(data, to_use, target_column, variance, column_initials, split):\n",
        "  '''\n",
        "  Returns data that can be used for modelling\n",
        "  '''\n",
        "  from sklearn.model_selection import train_test_split\n",
        "  # Compress\n",
        "  compressed = reduce_mem_usage(data)\n",
        "\n",
        "   # Encode the data\n",
        "  numerical_df = categorical_handler(compressed)\n",
        "  \n",
        "  # Handle null\n",
        "  without_null_df = null_handler(numerical_df)\n",
        "  # Get dimensions reduced\n",
        "  dimensions_reduced_df = dimension_reducer(without_null_df,\n",
        "                                            column_initials[0],\n",
        "                                            variance)\n",
        "  \n",
        "  dimensions_reduced_df = dimension_reducer(dimensions_reduced_df,\n",
        "                                            column_initials[1],\n",
        "                                            variance) \n",
        " \n",
        "  #print(numerical_df.columns)\n",
        "  # Final data\n",
        "  final_data = dimensions_reduced_df[to_use]\n",
        "  #final_data = numerical_df.copy()\n",
        "\n",
        "  X = final_data.copy()\n",
        "  y = numerical_df[target_column]\n",
        "\n",
        "  # Split data\n",
        "  x_train, x_test, y_train, y_test = train_test_split(X, y,\n",
        "                                                      train_size=split,\n",
        "                                                      stratify=y)\n",
        "  \n",
        "  return x_train.reset_index(drop=True), x_test.reset_index(drop=True), y_train.reset_index(drop=True), y_test.reset_index(drop=True)\n",
        "  \n"
      ],
      "execution_count": 50,
      "outputs": []
    },
    {
      "cell_type": "code",
      "metadata": {
        "id": "k9a6ZgZ0XgY9"
      },
      "source": [
        "def model_trainer(models, x_train, y_train):\n",
        "  '''\n",
        "  Trains the model\n",
        "  '''\n",
        "  from sklearn.model_selection import StratifiedKFold\n",
        "  from sklearn.metrics import roc_auc_score\n",
        "\n",
        "  kf = StratifiedKFold(5)\n",
        "  \n",
        "  scores_0 = []\n",
        "  scores_1 = []\n",
        "  scores_2 = []\n",
        "  scores = [scores_0, scores_1, scores_2]\n",
        "  for index in kf.split(x_train, y_train):\n",
        "    train_index, test_index = index[0], index[1]\n",
        "    X_train, Y_train = x_train.loc[train_index], y_train.loc[train_index]\n",
        "    X_test, Y_test = x_train.loc[test_index], y_train.loc[test_index]\n",
        "    for i in range(len(models)):\n",
        "      models[i].fit(X_train, Y_train)\n",
        "      predictions = models[i].predict_proba(X_test)[:, 1]\n",
        "      roc = roc_auc_score(Y_test, predictions)\n",
        "      scores[i].append(roc)\n",
        "    \n",
        "\n",
        "  print(f'Model {models[0]} , roc_score: {np.mean(scores_0)}')\n",
        "  print(f'Model {models[1]} , roc_score: {np.mean(scores_1)}')\n",
        "  print(f'Model {models[2]} , roc_score: {np.mean(scores_2)}')"
      ],
      "execution_count": 46,
      "outputs": []
    },
    {
      "cell_type": "code",
      "metadata": {
        "id": "8aOlXFqrgnI1"
      },
      "source": [
        "# View feature importance\n",
        "def plot_feature_importance(trained_model, features_train):\n",
        "\n",
        "    #Create arrays from feature importance and feature names\n",
        "    feature_importance = trained_model.feature_importances_\n",
        "    feature_names = features_train.columns\n",
        "\n",
        "    #Create a DataFrame using a Dictionary\n",
        "    data={'feature_names':feature_names,'feature_importance':feature_importance}\n",
        "    fi_df = pd.DataFrame(data)\n",
        "\n",
        "    #Sort the DataFrame in order decreasing feature importance\n",
        "    fi_df.sort_values(by=['feature_importance'], ascending=False,inplace=True)\n",
        "\n",
        "    #Define size of bar plot\n",
        "    plt.figure(figsize=(10,8))\n",
        "    #Plot Searborn bar chart\n",
        "    sns.set_style('whitegrid')\n",
        "    sns.barplot(x=fi_df['feature_importance'], y=fi_df['feature_names'],\n",
        "                palette='husl')\n",
        "    #Add chart labels\n",
        "    plt.title('FEATURE IMPORTANCES')\n",
        "    plt.xlabel('FEATURE IMPORTANCE')\n",
        "    plt.ylabel('FEATURE NAMES')"
      ],
      "execution_count": 42,
      "outputs": []
    },
    {
      "cell_type": "code",
      "metadata": {
        "id": "9YyIg3TWivaN"
      },
      "source": [
        "def optimize(params, x, y, weights):\n",
        "  from sklearn.metrics import roc_auc_score\n",
        "  model = LGBMClassifier(**params, class_weight=WEIGHTS)\n",
        "  kf = StratifiedKFold(5)\n",
        "  roc = []\n",
        "  for idx in kf.split(x, y):\n",
        "    train_idx, test_idx = idx[0], idx[1]\n",
        "    x_train = x.loc[train_idx]\n",
        "    y_train = y.loc[train_idx]\n",
        "\n",
        "    x_test = x.loc[test_idx]\n",
        "    y_test = y.loc[test_idx]\n",
        "\n",
        "    model.fit(x_train, y_train)\n",
        "    preds = model.predict_proba(x_test)[:, 1]\n",
        "    error = roc_auc_score(y_test, preds)\n",
        "    roc.append(error)\n",
        "\n",
        "  return -1.0 * np.mean(roc)"
      ],
      "execution_count": 41,
      "outputs": []
    },
    {
      "cell_type": "markdown",
      "metadata": {
        "id": "LKAzJEntIgu2"
      },
      "source": [
        "# Data Obtainance"
      ]
    },
    {
      "cell_type": "code",
      "metadata": {
        "id": "cDoMkRuZIjEW"
      },
      "source": [
        "# Kaggle details\n",
        "os.environ[\"KAGGLE_USERNAME\"] = 'kimanikibuthu'\n",
        "os.environ[\"KAGGLE_KEY\"] = 'f85c0bb5d43058fddcce7902e1325677'"
      ],
      "execution_count": 11,
      "outputs": []
    },
    {
      "cell_type": "code",
      "metadata": {
        "colab": {
          "base_uri": "https://localhost:8080/"
        },
        "id": "mab4R-spIyEF",
        "outputId": "0b87552f-c2aa-4c82-edd0-ada3cbe3d3fe"
      },
      "source": [
        "# Download data\n",
        "!kaggle competitions download -c ieee-fraud-detection"
      ],
      "execution_count": 12,
      "outputs": [
        {
          "output_type": "stream",
          "text": [
            "Warning: Looks like you're using an outdated API Version, please consider updating (server 1.5.12 / client 1.5.4)\n",
            "test_identity.csv.zip: Skipping, found more recently modified local copy (use --force to force download)\n",
            "sample_submission.csv.zip: Skipping, found more recently modified local copy (use --force to force download)\n",
            "train_identity.csv.zip: Skipping, found more recently modified local copy (use --force to force download)\n",
            "test_transaction.csv.zip: Skipping, found more recently modified local copy (use --force to force download)\n",
            "train_transaction.csv.zip: Skipping, found more recently modified local copy (use --force to force download)\n"
          ],
          "name": "stdout"
        }
      ]
    },
    {
      "cell_type": "code",
      "metadata": {
        "colab": {
          "base_uri": "https://localhost:8080/"
        },
        "id": "Vaxd-jpVI3oa",
        "outputId": "8dd3cb7b-91d8-4f54-9a99-9db134e2bd11"
      },
      "source": [
        "# Unzip files\n",
        "!unzip /content/sample_submission.csv.zip\n",
        "!unzip /content/test_identity.csv.zip\n",
        "!unzip /content/test_transaction.csv.zip\n",
        "!unzip /content/train_identity.csv.zip\n",
        "!unzip /content/train_transaction.csv.zip"
      ],
      "execution_count": 13,
      "outputs": [
        {
          "output_type": "stream",
          "text": [
            "Archive:  /content/sample_submission.csv.zip\n",
            "replace sample_submission.csv? [y]es, [n]o, [A]ll, [N]one, [r]ename: N\n",
            "Archive:  /content/test_identity.csv.zip\n",
            "replace test_identity.csv? [y]es, [n]o, [A]ll, [N]one, [r]ename: N\n",
            "Archive:  /content/test_transaction.csv.zip\n",
            "replace test_transaction.csv? [y]es, [n]o, [A]ll, [N]one, [r]ename: N\n",
            "Archive:  /content/train_identity.csv.zip\n",
            "replace train_identity.csv? [y]es, [n]o, [A]ll, [N]one, [r]ename: N\n",
            "Archive:  /content/train_transaction.csv.zip\n",
            "replace train_transaction.csv? [y]es, [n]o, [A]ll, [N]one, [r]ename: N\n"
          ],
          "name": "stdout"
        }
      ]
    },
    {
      "cell_type": "code",
      "metadata": {
        "id": "JNRCDBAoJMpP"
      },
      "source": [
        "# Store them in variables\n",
        "submission = pd.read_csv('/content/sample_submission.csv')\n",
        "train_identity = pd.read_csv('/content/train_identity.csv')\n",
        "train_transaction = pd.read_csv('/content/train_transaction.csv')\n",
        "test_transaction = pd.read_csv('/content/test_transaction.csv')\n",
        "test_identity = pd.read_csv('/content/test_identity.csv')"
      ],
      "execution_count": 14,
      "outputs": []
    },
    {
      "cell_type": "markdown",
      "metadata": {
        "id": "fUOFReS0-lwJ"
      },
      "source": [
        "# Data Cleaning"
      ]
    },
    {
      "cell_type": "code",
      "metadata": {
        "id": "J3WFaJbpNXvS",
        "colab": {
          "base_uri": "https://localhost:8080/"
        },
        "outputId": "e5caca18-bcff-4628-d945-85370eb0dddf"
      },
      "source": [
        "# Clean Data\n",
        "x_train, x_test, y_train, y_test = clean_data(train_transaction,\n",
        "                                             to_use= TO_USE,\n",
        "                                             target_column='isFraud',\n",
        "                                             variance=VARIANCE,\n",
        "                                             column_initials=INITIALS,\n",
        "                                             split=TRAIN_SIZE)"
      ],
      "execution_count": 51,
      "outputs": [
        {
          "output_type": "stream",
          "text": [
            "Memory usage of dataframe is 542.35 MB\n",
            "Memory usage after optimization is: 542.35 MB\n",
            "Decreased by 0.0%\n"
          ],
          "name": "stdout"
        },
        {
          "output_type": "stream",
          "text": [
            "/usr/local/lib/python3.7/dist-packages/numpy/lib/nanfunctions.py:1544: RuntimeWarning: overflow encountered in multiply\n",
            "  sqr = np.multiply(arr, arr, out=arr)\n"
          ],
          "name": "stderr"
        }
      ]
    },
    {
      "cell_type": "markdown",
      "metadata": {
        "id": "jurj3Zm2X84I"
      },
      "source": [
        "# Modelling\n",
        "\n",
        "## Training & Evaluation"
      ]
    },
    {
      "cell_type": "code",
      "metadata": {
        "id": "doM7KJ7Yekqo"
      },
      "source": [
        "# Instantiate models\n",
        "lgb = LGBMClassifier(class_weight=WEIGHTS)\n",
        "forest = RandomForestClassifier(class_weight=WEIGHTS)\n",
        "xgb = XGBClassifier(scale_pos_weight=27)\n",
        "\n",
        "models = [forest, xgb, lgb]"
      ],
      "execution_count": 31,
      "outputs": []
    },
    {
      "cell_type": "code",
      "metadata": {
        "colab": {
          "base_uri": "https://localhost:8080/"
        },
        "id": "5ACwgSSZegrr",
        "outputId": "6683d81d-6905-4586-a3e4-6e4790594b8c"
      },
      "source": [
        "model_trainer(models, x_train, y_train)"
      ],
      "execution_count": 52,
      "outputs": [
        {
          "output_type": "stream",
          "text": [
            "Model RandomForestClassifier(bootstrap=True, ccp_alpha=0.0,\n",
            "                       class_weight={0: 0.5186, 1: 13.9242}, criterion='gini',\n",
            "                       max_depth=None, max_features='auto', max_leaf_nodes=None,\n",
            "                       max_samples=None, min_impurity_decrease=0.0,\n",
            "                       min_impurity_split=None, min_samples_leaf=1,\n",
            "                       min_samples_split=2, min_weight_fraction_leaf=0.0,\n",
            "                       n_estimators=100, n_jobs=None, oob_score=False,\n",
            "                       random_state=None, verbose=0, warm_start=False) , roc_score: 0.7819959118286899\n",
            "Model XGBClassifier(base_score=0.5, booster='gbtree', colsample_bylevel=1,\n",
            "              colsample_bynode=1, colsample_bytree=1, gamma=0,\n",
            "              learning_rate=0.1, max_delta_step=0, max_depth=3,\n",
            "              min_child_weight=1, missing=None, n_estimators=100, n_jobs=1,\n",
            "              nthread=None, objective='binary:logistic', random_state=0,\n",
            "              reg_alpha=0, reg_lambda=1, scale_pos_weight=27, seed=None,\n",
            "              silent=None, subsample=1, verbosity=1) , roc_score: 0.8335886019956812\n",
            "Model LGBMClassifier(boosting_type='gbdt', class_weight={0: 0.5186, 1: 13.9242},\n",
            "               colsample_bytree=1.0, importance_type='split', learning_rate=0.1,\n",
            "               max_depth=-1, min_child_samples=20, min_child_weight=0.001,\n",
            "               min_split_gain=0.0, n_estimators=100, n_jobs=-1, num_leaves=31,\n",
            "               objective=None, random_state=None, reg_alpha=0.0, reg_lambda=0.0,\n",
            "               silent=True, subsample=1.0, subsample_for_bin=200000,\n",
            "               subsample_freq=0) , roc_score: 0.8545946766079335\n"
          ],
          "name": "stdout"
        }
      ]
    },
    {
      "cell_type": "code",
      "metadata": {
        "colab": {
          "base_uri": "https://localhost:8080/",
          "height": 513
        },
        "id": "q1LJQuOgfFGg",
        "outputId": "45aff7d1-b5ec-42e0-a3fc-9a80fe8af31c"
      },
      "source": [
        "# View feature importances\n",
        "plot_feature_importance(lgb, x_train)"
      ],
      "execution_count": 37,
      "outputs": [
        {
          "output_type": "display_data",
          "data": {
            "image/png": "[encoded data removed]",
            "text/plain": [
              "<Figure size 720x576 with 1 Axes>"
            ]
          },
          "metadata": {
            "tags": [],
            "needs_background": "light"
          }
        }
      ]
    }
  ]
}