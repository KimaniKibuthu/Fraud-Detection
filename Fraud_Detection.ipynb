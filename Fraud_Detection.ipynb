{
  "nbformat": 4,
  "nbformat_minor": 0,
  "metadata": {
    "colab": {
      "name": "Fraud Detection.ipynb",
      "provenance": [],
      "collapsed_sections": [],
      "toc_visible": true,
      "authorship_tag": "ABX9TyOfOo6bXdpqtVNG3a3mwuw1",
      "include_colab_link": true
    },
    "kernelspec": {
      "name": "python3",
      "display_name": "Python 3"
    },
    "language_info": {
      "name": "python"
    }
  },
  "cells": [
    {
      "cell_type": "markdown",
      "metadata": {
        "id": "view-in-github",
        "colab_type": "text"
      },
      "source": [
        "<a href=\"https://colab.research.google.com/github/KimaniKibuthu/Fraud-Detection/blob/main/Fraud_Detection.ipynb\" target=\"_parent\"><img src=\"https://colab.research.google.com/assets/colab-badge.svg\" alt=\"Open In Colab\"/></a>"
      ]
    },
    {
      "cell_type": "markdown",
      "metadata": {
        "id": "EuU9WZfX75j9"
      },
      "source": [
        "# Fraud Detection\n",
        "\n",
        "## Introduction\n",
        "\n",
        "IEEE-CIS works across a variety of AI and machine learning areas, including deep neural networks, fuzzy systems, evolutionary computation, and swarm intelligence. Today they’re partnering with the world’s leading payment service company, Vesta Corporation, seeking the best solutions for fraud prevention industry, and now you are invited to join the challenge.\n",
        "\n",
        "In this competition, you’ll benchmark machine learning models on a challenging large-scale dataset. The data comes from Vesta's real-world e-commerce transactions and contains a wide range of features from device type to product features. You also have the opportunity to create new features to improve your results.\n",
        "\n",
        "If successful, you’ll improve the efficacy of fraudulent transaction alerts for millions of people around the world, helping hundreds of thousands of businesses reduce their fraud loss and increase their revenue. And of course, you will save party people just like you the hassle of false positives.\n",
        "\n",
        "## Methodology\n",
        "\n",
        "The methodology for the problem will be:\n",
        "* Data Understanding\n",
        "* Data Cleaning, Exploration & Feature Engineering\n",
        "* Modelling\n",
        "\n",
        "## Scoring\n",
        "The metric to be used is **ROC_AUC Score**.\n",
        "\n",
        "The goal is to obtain a model with a score of **0.8** "
      ]
    },
    {
      "cell_type": "markdown",
      "metadata": {
        "id": "ZFY34BVCH1OF"
      },
      "source": [
        "# Libraries, Variables & Functions"
      ]
    },
    {
      "cell_type": "markdown",
      "metadata": {
        "id": "waCBy5stH8HQ"
      },
      "source": [
        "## Libraries"
      ]
    },
    {
      "cell_type": "code",
      "metadata": {
        "id": "W9Rz8NNQGqha"
      },
      "source": [
        "# General Libraries\n",
        "import os\n",
        "import numpy as np\n",
        "import pandas as pd\n",
        "import matplotlib.pyplot as plt\n",
        "import seaborn as sns\n",
        "\n",
        "\n",
        "# Modelling\n",
        "from sklearn.ensemble import RandomForestClassifier\n",
        "from xgboost import XGBClassifier\n",
        "from lightgbm import LGBMClassifier\n",
        "from functools import partial\n",
        "from hyperopt import hp, fmin, tpe, Trials\n",
        "from hyperopt.pyll.base import scope"
      ],
      "execution_count": 41,
      "outputs": []
    },
    {
      "cell_type": "markdown",
      "metadata": {
        "id": "vLWIVIqdIVkf"
      },
      "source": [
        "## Variables & Functions"
      ]
    },
    {
      "cell_type": "code",
      "metadata": {
        "id": "pnW494nWITCd"
      },
      "source": [
        "# Variables\n",
        "RANDOM_STATE = 42\n",
        "VARIANCE = 0.95\n",
        "TRAIN_SIZE = 0.8\n",
        "INITIALS = ['V', 'C']\n",
        "TO_USE = ['V_0','V_4','V_66','V_26','V_17','card6','TransactionAmt',\n",
        "          'D3','M4','C_0','C_1','M3']\n",
        "WEIGHTS = {\n",
        "    0: 0.5186,\n",
        "    1: 13.9242\n",
        "}\n",
        "\n"
      ],
      "execution_count": 39,
      "outputs": []
    },
    {
      "cell_type": "code",
      "metadata": {
        "id": "LmGutm-F-GmV"
      },
      "source": [
        "def null_handler(data):\n",
        "  ''' \n",
        "  Takes in the dataframe and returns a clean dataframe with  no missing values\n",
        "  '''\n",
        "\n",
        "  # To drop ( with missing values greater than 50%)\n",
        "  to_drop = [column for column in data.columns if data[column].isnull().mean() >= 0.5]\n",
        "  new_data = data.drop(to_drop, axis=1)\n",
        "\n",
        "  # Drop the rest of the missing values\n",
        "  columns_with_null = [column for column in new_data.columns if new_data[column].isnull().mean() != 0]\n",
        "  final_data = new_data.dropna(subset=columns_with_null).reset_index(drop=True)\n",
        "\n",
        "  return final_data"
      ],
      "execution_count": 13,
      "outputs": []
    },
    {
      "cell_type": "code",
      "metadata": {
        "id": "ZQUyJLHKAZhR"
      },
      "source": [
        "def dimension_reducer(data, initial, variance):\n",
        "  '''\n",
        "  Reduces the dimension of a column\n",
        "  '''\n",
        "  # Instantiate Objects\n",
        "  from sklearn.decomposition import PCA\n",
        "  from sklearn.preprocessing import StandardScaler\n",
        "\n",
        "  pca = PCA(variance)\n",
        "  scaler = StandardScaler()\n",
        "\n",
        "  # Columns to reduce\n",
        "  cols = [column for column in data.columns if column.startswith(initial)]\n",
        "\n",
        "  # Subset data\n",
        "  subset = data[cols]\n",
        "\n",
        "  # reduce dimensionality\n",
        "  scaled = scaler.fit_transform(subset)\n",
        "  reduced = pca.fit_transform(scaled)\n",
        "  final_columns = pd.DataFrame(reduced, columns=[f'{initial}_{i}' for i in range(0, reduced.shape[1])])\n",
        "  \n",
        "  # Drop original columns\n",
        "  new_data = data.drop(cols, axis=1)\n",
        "\n",
        "  final_data = pd.concat([new_data, final_columns], axis=1)\n",
        "\n",
        "  return final_data\n",
        "  "
      ],
      "execution_count": 14,
      "outputs": []
    },
    {
      "cell_type": "code",
      "metadata": {
        "id": "vbm83-LdG5Q6"
      },
      "source": [
        "def categorical_handler(data):\n",
        "  '''\n",
        "  Converts categorical data to numerical data\n",
        "  '''\n",
        "  from sklearn.preprocessing import LabelEncoder\n",
        "  le = LabelEncoder()\n",
        "\n",
        "  # Instantiate columns\n",
        "  cols = [column for column in data.columns if data[column].dtype=='O']\n",
        "\n",
        "  # Convert\n",
        "  for column in cols:\n",
        "    data[column] = le.fit_transform(data[column])\n",
        "\n",
        "  return data"
      ],
      "execution_count": 9,
      "outputs": []
    },
    {
      "cell_type": "code",
      "metadata": {
        "id": "-6l-4-1DGpfl"
      },
      "source": [
        "def clean_data(data, to_use, target_column, variance, column_initials, split):\n",
        "  '''\n",
        "  Returns data that can be used for modelling\n",
        "  '''\n",
        "  from sklearn.model_selection import train_test_split\n",
        "  # Deal with null values\n",
        "  without_null_df = null_handler(data)\n",
        "\n",
        "  # Get dimensions reduced\n",
        "  dimensions_reduced_df = dimension_reducer(without_null_df,\n",
        "                                            column_initials[0],\n",
        "                                            variance)\n",
        "  \n",
        "  dimensions_reduced_df = dimension_reducer(dimensions_reduced_df,\n",
        "                                            column_initials[1],\n",
        "                                            variance) \n",
        "  # Encode the data\n",
        "  numerical_df = categorical_handler(dimensions_reduced_df)\n",
        "\n",
        "  # Final data\n",
        "  final_data = numerical_df[to_use]\n",
        "\n",
        "  X = final_data.copy()\n",
        "  y = numerical_df[target_column]\n",
        "\n",
        "  # Split data\n",
        "  x_train, x_test, y_train, y_test = train_test_split(X, y,\n",
        "                                                      train_size=split,\n",
        "                                                      stratify=y)\n",
        "  \n",
        "  return x_train.reset_index(drop=True), x_test.reset_index(drop=True), y_train.reset_index(drop=True), y_test.reset_index(drop=True)\n",
        "  \n"
      ],
      "execution_count": 21,
      "outputs": []
    },
    {
      "cell_type": "code",
      "metadata": {
        "id": "k9a6ZgZ0XgY9"
      },
      "source": [
        "def model_trainer(models, x_train, y_train):\n",
        "  '''\n",
        "  Trains the model\n",
        "  '''\n",
        "  from sklearn.model_selection import StratifiedKFold\n",
        "  from sklearn.metrics import roc_auc_score\n",
        "\n",
        "  kf = StratifiedKFold(5)\n",
        "  \n",
        "  scores_0 = []\n",
        "  scores_1 = []\n",
        "  scores_2 = []\n",
        "  scores = [scores_0, scores_1, scores_2]\n",
        "  for index in kf.split(x_train, y_train):\n",
        "    train_index, test_index = index[0], index[1]\n",
        "    X_train, Y_train = x_train.loc[train_index], y_train.loc[train_index]\n",
        "    X_test, Y_test = x_train.loc[test_index], y_train.loc[test_index]\n",
        "    for i in range(len(models)):\n",
        "      models[i].fit(X_train, Y_train)\n",
        "      predictions = models[i].predict_proba(X_test)[:, 1]\n",
        "      roc = roc_auc_score(Y_test, predictions)\n",
        "      scores[i].append(roc)\n",
        "    \n",
        "\n",
        "  print(f'Model {models[0]} , roc_score: {np.mean(scores_0)}')\n",
        "  print(f'Model {models[1]} , roc_score: {np.mean(scores_1)}')\n",
        "  print(f'Model {models[2]} , roc_score: {np.mean(scores_2)}')"
      ],
      "execution_count": 30,
      "outputs": []
    },
    {
      "cell_type": "code",
      "metadata": {
        "id": "8aOlXFqrgnI1"
      },
      "source": [
        "# View feature importance\n",
        "def plot_feature_importance(trained_model, features_train):\n",
        "\n",
        "    #Create arrays from feature importance and feature names\n",
        "    feature_importance = trained_model.feature_importances_\n",
        "    feature_names = features_train.columns\n",
        "\n",
        "    #Create a DataFrame using a Dictionary\n",
        "    data={'feature_names':feature_names,'feature_importance':feature_importance}\n",
        "    fi_df = pd.DataFrame(data)\n",
        "\n",
        "    #Sort the DataFrame in order decreasing feature importance\n",
        "    fi_df.sort_values(by=['feature_importance'], ascending=False,inplace=True)\n",
        "\n",
        "    #Define size of bar plot\n",
        "    plt.figure(figsize=(10,8))\n",
        "    #Plot Searborn bar chart\n",
        "    sns.set_style('whitegrid')\n",
        "    sns.barplot(x=fi_df['feature_importance'], y=fi_df['feature_names'],\n",
        "                palette='husl')\n",
        "    #Add chart labels\n",
        "    plt.title('FEATURE IMPORTANCES')\n",
        "    plt.xlabel('FEATURE IMPORTANCE')\n",
        "    plt.ylabel('FEATURE NAMES')"
      ],
      "execution_count": 37,
      "outputs": []
    },
    {
      "cell_type": "code",
      "metadata": {
        "id": "9YyIg3TWivaN"
      },
      "source": [
        "def optimize(params, x, y, weights):\n",
        "\n",
        "  model = LGBMClassifier(**params, class_weight=WEIGHTS)\n",
        "  kf = StratifiedKFold(5)\n",
        "  roc = []\n",
        "  for idx in kf.split(x, y):\n",
        "    train_idx, test_idx = idx[0], idx[1]\n",
        "    x_train = x.loc[train_idx]\n",
        "    y_train = y.loc[train_idx]\n",
        "\n",
        "    x_test = x.loc[test_idx]\n",
        "    y_test = y.loc[test_idx]\n",
        "\n",
        "    model.fit(x_train, y_train)\n",
        "    preds = model.predict_proba(x_test)[:, 1]\n",
        "    error = roc_auc_score(y_test, preds)\n",
        "    roc.append(error)\n",
        "\n",
        "  return -1.0 * np.mean(roc)"
      ],
      "execution_count": 49,
      "outputs": []
    },
    {
      "cell_type": "markdown",
      "metadata": {
        "id": "LKAzJEntIgu2"
      },
      "source": [
        "# Data Obtainance"
      ]
    },
    {
      "cell_type": "code",
      "metadata": {
        "id": "cDoMkRuZIjEW"
      },
      "source": [
        "# Kaggle details\n",
        "os.environ[\"KAGGLE_USERNAME\"] = 'kimanikibuthu'\n",
        "os.environ[\"KAGGLE_KEY\"] = 'f85c0bb5d43058fddcce7902e1325677'"
      ],
      "execution_count": 3,
      "outputs": []
    },
    {
      "cell_type": "code",
      "metadata": {
        "colab": {
          "base_uri": "https://localhost:8080/"
        },
        "id": "mab4R-spIyEF",
        "outputId": "e86ff449-99e7-48f8-ac4c-e9355e5b36c0"
      },
      "source": [
        "# Download data\n",
        "!kaggle competitions download -c ieee-fraud-detection"
      ],
      "execution_count": 4,
      "outputs": [
        {
          "output_type": "stream",
          "text": [
            "Warning: Looks like you're using an outdated API Version, please consider updating (server 1.5.12 / client 1.5.4)\n",
            "Downloading train_identity.csv.zip to /content\n",
            "  0% 0.00/3.26M [00:00<?, ?B/s]\n",
            "100% 3.26M/3.26M [00:00<00:00, 54.0MB/s]\n",
            "Downloading test_transaction.csv.zip to /content\n",
            " 79% 41.0M/52.2M [00:03<00:01, 8.54MB/s]\n",
            "100% 52.2M/52.2M [00:03<00:00, 17.0MB/s]\n",
            "Downloading train_transaction.csv.zip to /content\n",
            " 86% 50.0M/58.3M [00:03<00:00, 11.5MB/s]\n",
            "100% 58.3M/58.3M [00:03<00:00, 17.9MB/s]\n",
            "Downloading test_identity.csv.zip to /content\n",
            "  0% 0.00/3.21M [00:00<?, ?B/s]\n",
            "100% 3.21M/3.21M [00:00<00:00, 106MB/s]\n",
            "Downloading sample_submission.csv.zip to /content\n",
            "  0% 0.00/1.14M [00:00<?, ?B/s]\n",
            "100% 1.14M/1.14M [00:00<00:00, 160MB/s]\n"
          ],
          "name": "stdout"
        }
      ]
    },
    {
      "cell_type": "code",
      "metadata": {
        "colab": {
          "base_uri": "https://localhost:8080/"
        },
        "id": "Vaxd-jpVI3oa",
        "outputId": "92e2446a-84e6-416f-e556-3d7bb8c86e56"
      },
      "source": [
        "# Unzip files\n",
        "!unzip /content/sample_submission.csv.zip\n",
        "!unzip /content/test_identity.csv.zip\n",
        "!unzip /content/test_transaction.csv.zip\n",
        "!unzip /content/train_identity.csv.zip\n",
        "!unzip /content/train_transaction.csv.zip"
      ],
      "execution_count": 5,
      "outputs": [
        {
          "output_type": "stream",
          "text": [
            "Archive:  /content/sample_submission.csv.zip\n",
            "  inflating: sample_submission.csv   \n",
            "Archive:  /content/test_identity.csv.zip\n",
            "  inflating: test_identity.csv       \n",
            "Archive:  /content/test_transaction.csv.zip\n",
            "  inflating: test_transaction.csv    \n",
            "Archive:  /content/train_identity.csv.zip\n",
            "  inflating: train_identity.csv      \n",
            "Archive:  /content/train_transaction.csv.zip\n",
            "  inflating: train_transaction.csv   \n"
          ],
          "name": "stdout"
        }
      ]
    },
    {
      "cell_type": "code",
      "metadata": {
        "id": "JNRCDBAoJMpP"
      },
      "source": [
        "# Store them in variables\n",
        "submission = pd.read_csv('/content/sample_submission.csv')\n",
        "train_identity = pd.read_csv('/content/train_identity.csv')\n",
        "train_transaction = pd.read_csv('/content/train_transaction.csv')\n",
        "test_transaction = pd.read_csv('/content/test_transaction.csv')\n",
        "test_identity = pd.read_csv('/content/test_identity.csv')"
      ],
      "execution_count": 6,
      "outputs": []
    },
    {
      "cell_type": "markdown",
      "metadata": {
        "id": "fUOFReS0-lwJ"
      },
      "source": [
        "# Data Cleaning"
      ]
    },
    {
      "cell_type": "code",
      "metadata": {
        "id": "J3WFaJbpNXvS"
      },
      "source": [
        "# Clean Data\n",
        "x_train, x_test, y_train, y_test = clean_data(train_transaction,\n",
        "                                             to_use= TO_USE,\n",
        "                                             target_column='isFraud',\n",
        "                                             variance=VARIANCE,\n",
        "                                             column_initials=INITIALS,\n",
        "                                             split=TRAIN_SIZE)"
      ],
      "execution_count": 35,
      "outputs": []
    },
    {
      "cell_type": "markdown",
      "metadata": {
        "id": "jurj3Zm2X84I"
      },
      "source": [
        "# Modelling\n",
        "\n",
        "## Training & Evaluation"
      ]
    },
    {
      "cell_type": "code",
      "metadata": {
        "id": "doM7KJ7Yekqo"
      },
      "source": [
        "# Instantiate models\n",
        "lgb = LGBMClassifier(class_weight=WEIGHTS)\n",
        "forest = RandomForestClassifier(class_weight=WEIGHTS)\n",
        "xgb = XGBClassifier(scale_pos_weight=27)\n",
        "\n",
        "models = [forest, xgb, lgb]"
      ],
      "execution_count": 26,
      "outputs": []
    },
    {
      "cell_type": "code",
      "metadata": {
        "id": "5ACwgSSZegrr",
        "outputId": "09e24922-f225-42df-c701-b7d466b059f6",
        "colab": {
          "base_uri": "https://localhost:8080/"
        }
      },
      "source": [
        "model_trainer(models, x_train, y_train)"
      ],
      "execution_count": 36,
      "outputs": [
        {
          "output_type": "stream",
          "text": [
            "Model RandomForestClassifier(bootstrap=True, ccp_alpha=0.0,\n",
            "                       class_weight={0: 0.5186, 1: 13.9242}, criterion='gini',\n",
            "                       max_depth=None, max_features='auto', max_leaf_nodes=None,\n",
            "                       max_samples=None, min_impurity_decrease=0.0,\n",
            "                       min_impurity_split=None, min_samples_leaf=1,\n",
            "                       min_samples_split=2, min_weight_fraction_leaf=0.0,\n",
            "                       n_estimators=100, n_jobs=None, oob_score=False,\n",
            "                       random_state=None, verbose=0, warm_start=False) , roc_score: 0.8441309127288378\n",
            "Model XGBClassifier(base_score=0.5, booster='gbtree', colsample_bylevel=1,\n",
            "              colsample_bynode=1, colsample_bytree=1, gamma=0,\n",
            "              learning_rate=0.1, max_delta_step=0, max_depth=3,\n",
            "              min_child_weight=1, missing=None, n_estimators=100, n_jobs=1,\n",
            "              nthread=None, objective='binary:logistic', random_state=0,\n",
            "              reg_alpha=0, reg_lambda=1, scale_pos_weight=27, seed=None,\n",
            "              silent=None, subsample=1, verbosity=1) , roc_score: 0.8135635073433992\n",
            "Model LGBMClassifier(boosting_type='gbdt', class_weight={0: 0.5186, 1: 13.9242},\n",
            "               colsample_bytree=1.0, importance_type='split', learning_rate=0.1,\n",
            "               max_depth=-1, min_child_samples=20, min_child_weight=0.001,\n",
            "               min_split_gain=0.0, n_estimators=100, n_jobs=-1, num_leaves=31,\n",
            "               objective=None, random_state=None, reg_alpha=0.0, reg_lambda=0.0,\n",
            "               silent=True, subsample=1.0, subsample_for_bin=200000,\n",
            "               subsample_freq=0) , roc_score: 0.8433616043535996\n"
          ],
          "name": "stdout"
        }
      ]
    },
    {
      "cell_type": "code",
      "metadata": {
        "id": "q1LJQuOgfFGg",
        "outputId": "eb548c12-5d04-406f-a499-df1b8f492c75",
        "colab": {
          "base_uri": "https://localhost:8080/",
          "height": 513
        }
      },
      "source": [
        "# View feature importances\n",
        "plot_feature_importance(lgb, x_train)"
      ],
      "execution_count": 38,
      "outputs": [
        {
          "output_type": "display_data",
          "data": {
            "image/png": "[encoded data removed]",
            "text/plain": [
              "<Figure size 720x576 with 1 Axes>"
            ]
          },
          "metadata": {
            "tags": []
          }
        }
      ]
    },
    {
      "cell_type": "markdown",
      "metadata": {
        "id": "5OUZ74_BiJ7F"
      },
      "source": [
        "## Hyperparameter Tune"
      ]
    },
    {
      "cell_type": "code",
      "metadata": {
        "id": "Ms5dVqkvg9qN",
        "outputId": "311aec9a-aa8c-410c-94e3-533eec986f66",
        "colab": {
          "base_uri": "https://localhost:8080/"
        }
      },
      "source": [
        "# Define parameter space\n",
        "param_space = {\n",
        "    'learning_rate': hp.uniform('learning_rate', 0.01, 0.1),\n",
        "    'n_estimators': scope.int(hp.quniform('n_estimators', 100, 500, 50)),\n",
        "    'boosting_type': hp.choice('boosting_type', ['gbdt', 'dart', 'goss'])\n",
        "}\n",
        "\n",
        "# Create optimization function\n",
        "optimization_function = partial(optimize, x=x_train, y=y_train, weights=WEIGHTS)\n",
        "\n",
        "# create Trial\n",
        "trial = Trials()\n",
        "\n",
        "# Optimize\n",
        "result = fmin(\n",
        "    fn=optimization_function,\n",
        "    space=param_space,\n",
        "    algo=tpe.suggest,\n",
        "    max_evals=10,\n",
        "    trials=trial\n",
        ")\n"
      ],
      "execution_count": 50,
      "outputs": [
        {
          "output_type": "stream",
          "text": [
            "100%|██████████| 10/10 [07:02<00:00, 42.22s/it, best loss: -0.8551016238201198]\n"
          ],
          "name": "stdout"
        }
      ]
    },
    {
      "cell_type": "code",
      "metadata": {
        "id": "GYDLrO1siiHj",
        "outputId": "58e5c01f-8959-4dd1-b9f9-700038280916",
        "colab": {
          "base_uri": "https://localhost:8080/"
        }
      },
      "source": [
        "result"
      ],
      "execution_count": 52,
      "outputs": [
        {
          "output_type": "execute_result",
          "data": {
            "text/plain": [
              "{'boosting_type': 2,\n",
              " 'learning_rate': 0.028241581427160198,\n",
              " 'n_estimators': 400.0}"
            ]
          },
          "metadata": {
            "tags": []
          },
          "execution_count": 52
        }
      ]
    },
    {
      "cell_type": "code",
      "metadata": {
        "id": "wa1IyEqel_nI",
        "outputId": "de54f3e7-67c9-4f20-b247-d13aa64e0d75",
        "colab": {
          "base_uri": "https://localhost:8080/"
        }
      },
      "source": [
        "## Train One last time\n",
        "\n",
        "lgb = LGBMClassifier(boosting_type = 'goss',\n",
        "                      learning_rate = 0.028241581427160198,\n",
        "                      n_estimators = 400,\n",
        "                     class_weight=WEIGHTS)\n",
        "\n",
        "lgb.fit(x_train, y_train)\n",
        "\n",
        "preds = lgb.predict_proba(x_test)[:, 1]\n",
        "\n",
        "roc = roc_auc_score(y_test, preds)\n",
        "\n",
        "print(f'The final ROC is : {roc}')"
      ],
      "execution_count": 53,
      "outputs": [
        {
          "output_type": "stream",
          "text": [
            "The final ROC is : 0.8715551550371068\n"
          ],
          "name": "stdout"
        }
      ]
    },
    {
      "cell_type": "code",
      "metadata": {
        "id": "WfSghDKZlyBP"
      },
      "source": [
        ""
      ],
      "execution_count": null,
      "outputs": []
    }
  ]
}